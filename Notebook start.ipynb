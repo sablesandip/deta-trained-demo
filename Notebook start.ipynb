{
 "cells": [
  {
   "cell_type": "code",
   "execution_count": 1,
   "id": "ccf2248f",
   "metadata": {},
   "outputs": [
    {
     "name": "stdout",
     "output_type": "stream",
     "text": [
      "sandip sable\n"
     ]
    }
   ],
   "source": [
    "print('sandip sable')"
   ]
  },
  {
   "cell_type": "code",
   "execution_count": 2,
   "id": "e1b0c120",
   "metadata": {},
   "outputs": [
    {
     "name": "stdout",
     "output_type": "stream",
     "text": [
      "10\n",
      "Hello\n"
     ]
    }
   ],
   "source": [
    "x=10\n",
    "y='Hello'\n",
    "print(x)\n",
    "print(y)"
   ]
  },
  {
   "cell_type": "code",
   "execution_count": 3,
   "id": "71fc5eb3",
   "metadata": {},
   "outputs": [
    {
     "name": "stdout",
     "output_type": "stream",
     "text": [
      "10 Hello\n"
     ]
    }
   ],
   "source": [
    "print(x,y)"
   ]
  },
  {
   "cell_type": "code",
   "execution_count": 4,
   "id": "5616a873",
   "metadata": {},
   "outputs": [
    {
     "name": "stdout",
     "output_type": "stream",
     "text": [
      "The value of x and y is = 10 Hello\n"
     ]
    }
   ],
   "source": [
    "#The value of x=10\n",
    "print('The value of x and y is =',x,y)"
   ]
  },
  {
   "cell_type": "code",
   "execution_count": 5,
   "id": "3fcee0c3",
   "metadata": {},
   "outputs": [
    {
     "name": "stdout",
     "output_type": "stream",
     "text": [
      "the value of x is 10 and y is Hello\n"
     ]
    }
   ],
   "source": [
    "#The value of x is 10 and y is Hello\n",
    "# signe indicates a comment that is a non executable statement \n",
    "print ('the value of x is',x,'and y is',y)"
   ]
  },
  {
   "cell_type": "code",
   "execution_count": 6,
   "id": "1a9b7a3a",
   "metadata": {},
   "outputs": [
    {
     "name": "stdout",
     "output_type": "stream",
     "text": [
      "<class 'int'>\n"
     ]
    }
   ],
   "source": [
    "print(type(x))"
   ]
  },
  {
   "cell_type": "code",
   "execution_count": 8,
   "id": "a08a47db",
   "metadata": {},
   "outputs": [
    {
     "name": "stdout",
     "output_type": "stream",
     "text": [
      "<class 'float'>\n"
     ]
    }
   ],
   "source": [
    "z=10.5\n",
    "print(type(z))"
   ]
  },
  {
   "cell_type": "code",
   "execution_count": 10,
   "id": "8f83e755",
   "metadata": {},
   "outputs": [
    {
     "name": "stdout",
     "output_type": "stream",
     "text": [
      "<class 'bool'>\n"
     ]
    }
   ],
   "source": [
    "b=True\n",
    "print(type(b))\n"
   ]
  },
  {
   "cell_type": "code",
   "execution_count": null,
   "id": "8ac25641",
   "metadata": {},
   "outputs": [],
   "source": []
  }
 ],
 "metadata": {
  "kernelspec": {
   "display_name": "Python 3 (ipykernel)",
   "language": "python",
   "name": "python3"
  },
  "language_info": {
   "codemirror_mode": {
    "name": "ipython",
    "version": 3
   },
   "file_extension": ".py",
   "mimetype": "text/x-python",
   "name": "python",
   "nbconvert_exporter": "python",
   "pygments_lexer": "ipython3",
   "version": "3.9.12"
  }
 },
 "nbformat": 4,
 "nbformat_minor": 5
}
